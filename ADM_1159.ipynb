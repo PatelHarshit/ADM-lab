{
  "nbformat": 4,
  "nbformat_minor": 0,
  "metadata": {
    "colab": {
      "provenance": [],
      "authorship_tag": "ABX9TyN1nDbGyHDYDxa7SnjYl+KK",
      "include_colab_link": true
    },
    "kernelspec": {
      "name": "python3",
      "display_name": "Python 3"
    },
    "language_info": {
      "name": "python"
    }
  },
  "cells": [
    {
      "cell_type": "markdown",
      "metadata": {
        "id": "view-in-github",
        "colab_type": "text"
      },
      "source": [
        "<a href=\"https://colab.research.google.com/github/PatelHarshit/ADM-lab/blob/main/ADM_1159.ipynb\" target=\"_parent\"><img src=\"https://colab.research.google.com/assets/colab-badge.svg\" alt=\"Open In Colab\"/></a>"
      ]
    },
    {
      "cell_type": "markdown",
      "source": [],
      "metadata": {
        "id": "Ne52CChVWJsn"
      }
    },
    {
      "cell_type": "code",
      "source": [
        "from google.colab import drive\n",
        "drive.mount('/content/drive/')"
      ],
      "metadata": {
        "colab": {
          "base_uri": "https://localhost:8080/"
        },
        "id": "qjxdVPXbWbZn",
        "outputId": "069727ee-e108-420a-9ded-41ee72d65e16"
      },
      "execution_count": null,
      "outputs": [
        {
          "output_type": "stream",
          "name": "stdout",
          "text": [
            "Mounted at /content/drive/\n"
          ]
        }
      ]
    },
    {
      "cell_type": "code",
      "source": [
        "a=str(input(\"Enter the name of the file with .txt extension:\"))\n",
        "file2=open(a,'r')\n",
        "line=file2.readline()\n",
        "while(line!=\"\"):\n",
        "    print(line)\n",
        "    line=file2.readline()\n",
        "file2.close()\n",
        "\n"
      ],
      "metadata": {
        "colab": {
          "base_uri": "https://localhost:8080/"
        },
        "id": "R0TIxE3eWgQH",
        "outputId": "9acedbe0-a5bc-4c81-e8ba-33fec4851a12"
      },
      "execution_count": null,
      "outputs": [
        {
          "output_type": "stream",
          "name": "stdout",
          "text": [
            "Enter the name of the file with .txt extension:h.txt\n",
            "#include <stdio.h>\n",
            "\n",
            "#include <string.h>\n",
            "\n",
            "\n",
            "\n",
            "int findFirstOccurrence(const char *text, const char *pattern) {\n",
            "\n",
            "    // Use the strstr function to find the first occurrence of pattern in text\n",
            "\n",
            "    char *result = strstr(text, pattern);\n",
            "\n",
            "    \n",
            "\n",
            "    // If result is NULL, the pattern was not found\n",
            "\n",
            "    if (result == NULL) {\n",
            "\n",
            "        return -1; // Indicating that the pattern is not found\n",
            "\n",
            "    }\n",
            "\n",
            "    \n",
            "\n",
            "    // Calculate the index of the first occurrence\n",
            "\n",
            "    return result - text;\n",
            "\n",
            "}\n",
            "\n",
            "\n",
            "\n",
            "int main() {\n",
            "\n",
            "    // Define the text and the search pattern\n",
            "\n",
            "    char text[] = \"sadbutnotsad\";\n",
            "\n",
            "    char pattern[] = \"sad\";\n",
            "\n",
            "    \n",
            "\n",
            "    // Find the index of the first occurrence\n",
            "\n",
            "    int index = findFirstOccurrence(text, pattern);\n",
            "\n",
            "    \n",
            "\n",
            "    // Print the result\n",
            "\n",
            "    printf(\"%d\\n\", index);\n",
            "\n",
            "    \n",
            "\n",
            "    return 0;\n",
            "\n",
            "}\n",
            "\n"
          ]
        }
      ]
    },
    {
      "cell_type": "code",
      "source": [
        "with open(\"h.txt\") as f:\n",
        "    with open(\"out.txt\", \"w\") as f1:\n",
        "        for line in f:\n",
        "            f1.write(line)"
      ],
      "metadata": {
        "id": "x827Y-W0cBP8"
      },
      "execution_count": null,
      "outputs": []
    },
    {
      "cell_type": "code",
      "source": [
        "fname = input(\"Enter file name: \")\n",
        "num_lines = 0\n",
        "with open(fname, 'r') as f:\n",
        "    for line in f:\n",
        "        num_lines += 1\n",
        "print(\"Number of lines:\")\n",
        "print(num_lines)"
      ],
      "metadata": {
        "colab": {
          "base_uri": "https://localhost:8080/"
        },
        "id": "AF-nFxnCcx5H",
        "outputId": "3d3a0bd1-cfd4-4399-d203-f2cbc3d42e59"
      },
      "execution_count": null,
      "outputs": [
        {
          "output_type": "stream",
          "name": "stdout",
          "text": [
            "Enter file name: out.txt\n",
            "Number of lines:\n",
            "29\n"
          ]
        }
      ]
    },
    {
      "cell_type": "code",
      "source": [
        "fname = input(\"Enter file name: \")\n",
        "k = 0\n",
        "\n",
        "with open(fname, 'r') as f:\n",
        "    for line in f:\n",
        "        words = line.split()\n",
        "        for i in words:\n",
        "            for letter in i:\n",
        "                if(letter.isspace):\n",
        "                    k=k+1\n",
        "print(\"Occurrences of blank spaces:\")\n",
        "print(k)"
      ],
      "metadata": {
        "colab": {
          "base_uri": "https://localhost:8080/"
        },
        "id": "RYs0tT3Cc4vM",
        "outputId": "b268dfd2-bf3d-4e0c-cb92-6f62b7f5e87b"
      },
      "execution_count": null,
      "outputs": [
        {
          "output_type": "stream",
          "name": "stdout",
          "text": [
            "Enter file name: out.txt\n",
            "Occurrences of blank spaces:\n",
            "558\n"
          ]
        }
      ]
    },
    {
      "cell_type": "code",
      "source": [
        "fname = input(\"Enter file name: \")\n",
        "word=input(\"Enter word to be searched:\")\n",
        "k = 0\n",
        "\n",
        "with open(fname, 'r') as f:\n",
        "    for line in f:\n",
        "        words = line.split()\n",
        "        for i in words:\n",
        "            if(i==word):\n",
        "                k=k+1\n",
        "print(\"Occurrences of the word:\")\n",
        "print(k)"
      ],
      "metadata": {
        "colab": {
          "base_uri": "https://localhost:8080/"
        },
        "id": "rgdpdMaTdFp1",
        "outputId": "5f1a9808-3a97-4256-c097-9aae74128143"
      },
      "execution_count": null,
      "outputs": [
        {
          "output_type": "stream",
          "name": "stdout",
          "text": [
            "Enter file name: out.txt\n",
            "Enter word to be searched:}\n",
            "Occurrences of the word:\n",
            "3\n"
          ]
        }
      ]
    },
    {
      "cell_type": "code",
      "source": [
        "fname = input(\"Enter file name: \")\n",
        "\n",
        "num_words = 0\n",
        "\n",
        "with open(fname, 'r') as f:\n",
        "    for line in f:\n",
        "        words = line.split()\n",
        "        num_words += len(words)\n",
        "print(\"Number of words:\")\n",
        "print(num_words)"
      ],
      "metadata": {
        "colab": {
          "base_uri": "https://localhost:8080/"
        },
        "id": "ktFJo1sydZHN",
        "outputId": "9a5dc2a2-bfa9-409f-b271-ab82d09dab8f"
      },
      "execution_count": null,
      "outputs": [
        {
          "output_type": "stream",
          "name": "stdout",
          "text": [
            "Enter file name: out.txt\n",
            "Number of words:\n",
            "111\n"
          ]
        }
      ]
    },
    {
      "cell_type": "code",
      "source": [
        "fname = input(\"Enter file name: \")\n",
        "\n",
        "with open(fname, 'r') as f:\n",
        "    for line in f:\n",
        "        l=line.title()\n",
        "        print(l)"
      ],
      "metadata": {
        "colab": {
          "base_uri": "https://localhost:8080/"
        },
        "id": "vz6B5w4bdgQk",
        "outputId": "3ff8f1ce-8468-48db-a8c1-c07e2aaacaf1"
      },
      "execution_count": null,
      "outputs": [
        {
          "output_type": "stream",
          "name": "stdout",
          "text": [
            "Enter file name: out.txt\n",
            "#Include <Stdio.H>\n",
            "\n",
            "#Include <String.H>\n",
            "\n",
            "\n",
            "\n",
            "Int Findfirstoccurrence(Const Char *Text, Const Char *Pattern) {\n",
            "\n",
            "    // Use The Strstr Function To Find The First Occurrence Of Pattern In Text\n",
            "\n",
            "    Char *Result = Strstr(Text, Pattern);\n",
            "\n",
            "    \n",
            "\n",
            "    // If Result Is Null, The Pattern Was Not Found\n",
            "\n",
            "    If (Result == Null) {\n",
            "\n",
            "        Return -1; // Indicating That The Pattern Is Not Found\n",
            "\n",
            "    }\n",
            "\n",
            "    \n",
            "\n",
            "    // Calculate The Index Of The First Occurrence\n",
            "\n",
            "    Return Result - Text;\n",
            "\n",
            "}\n",
            "\n",
            "\n",
            "\n",
            "Int Main() {\n",
            "\n",
            "    // Define The Text And The Search Pattern\n",
            "\n",
            "    Char Text[] = \"Sadbutnotsad\";\n",
            "\n",
            "    Char Pattern[] = \"Sad\";\n",
            "\n",
            "    \n",
            "\n",
            "    // Find The Index Of The First Occurrence\n",
            "\n",
            "    Int Index = Findfirstoccurrence(Text, Pattern);\n",
            "\n",
            "    \n",
            "\n",
            "    // Print The Result\n",
            "\n",
            "    Printf(\"%D\\N\", Index);\n",
            "\n",
            "    \n",
            "\n",
            "    Return 0;\n",
            "\n",
            "}\n",
            "\n"
          ]
        }
      ]
    },
    {
      "cell_type": "code",
      "source": [
        "fname = input(\"Enter file name: \")\n",
        "l=input(\"Enter letter to be searched:\")\n",
        "k = 0\n",
        "\n",
        "with open(fname, 'r') as f:\n",
        "    for line in f:\n",
        "        words = line.split()\n",
        "        for i in words:\n",
        "            for letter in i:\n",
        "                if(letter==l):\n",
        "                    k=k+1\n",
        "print(\"Occurrences of the letter:\")\n",
        "print(k)"
      ],
      "metadata": {
        "colab": {
          "base_uri": "https://localhost:8080/"
        },
        "id": "u5GzXY-gdpl0",
        "outputId": "57dee7bb-78ab-43f3-b0c5-e1fb5492ebc3"
      },
      "execution_count": null,
      "outputs": [
        {
          "output_type": "stream",
          "name": "stdout",
          "text": [
            "Enter file name: out.txt\n",
            "Enter letter to be searched:Print\n",
            "Occurrences of the letter:\n",
            "0\n"
          ]
        }
      ]
    },
    {
      "cell_type": "code",
      "source": [
        "fname = input(\"Enter file name: \")\n",
        "\n",
        "with open(fname, 'r') as f:\n",
        "    for line in f:\n",
        "        words = line.split()\n",
        "        for i in words:\n",
        "            for letter in i:\n",
        "                if(letter.isdigit()):\n",
        "                    print(letter)\n"
      ],
      "metadata": {
        "colab": {
          "base_uri": "https://localhost:8080/"
        },
        "id": "zPRvC6wbd19k",
        "outputId": "c896a686-4baf-41de-d104-81a0e95ada1b"
      },
      "execution_count": null,
      "outputs": [
        {
          "output_type": "stream",
          "name": "stdout",
          "text": [
            "Enter file name: out.txt\n",
            "1\n",
            "0\n"
          ]
        }
      ]
    },
    {
      "cell_type": "code",
      "source": [
        "filename=input(\"Enter file name: \")\n",
        "for line in reversed(list(open(filename))):\n",
        "    print(line.rstrip())"
      ],
      "metadata": {
        "colab": {
          "base_uri": "https://localhost:8080/"
        },
        "id": "ZoQHrCuveEYt",
        "outputId": "67340ca1-53e4-4665-be08-9be00d676a8b"
      },
      "execution_count": null,
      "outputs": [
        {
          "output_type": "stream",
          "name": "stdout",
          "text": [
            "Enter file name: out.txt\n",
            "}\n",
            "    return 0;\n",
            "\n",
            "    printf(\"%d\\n\", index);\n",
            "    // Print the result\n",
            "\n",
            "    int index = findFirstOccurrence(text, pattern);\n",
            "    // Find the index of the first occurrence\n",
            "\n",
            "    char pattern[] = \"sad\";\n",
            "    char text[] = \"sadbutnotsad\";\n",
            "    // Define the text and the search pattern\n",
            "int main() {\n",
            "\n",
            "}\n",
            "    return result - text;\n",
            "    // Calculate the index of the first occurrence\n",
            "\n",
            "    }\n",
            "        return -1; // Indicating that the pattern is not found\n",
            "    if (result == NULL) {\n",
            "    // If result is NULL, the pattern was not found\n",
            "\n",
            "    char *result = strstr(text, pattern);\n",
            "    // Use the strstr function to find the first occurrence of pattern in text\n",
            "int findFirstOccurrence(const char *text, const char *pattern) {\n",
            "\n",
            "#include <string.h>\n",
            "#include <stdio.h>\n"
          ]
        }
      ]
    },
    {
      "cell_type": "code",
      "source": [
        "name1 = input(\"Enter file to be read from: \")\n",
        "name2 = input(\"Enter file to be appended to: \")\n",
        "fin = open(name1, \"r\")\n",
        "data2 = fin.read()\n",
        "fin.close()\n",
        "fout = open(name2, \"a\")\n",
        "fout.write(data2)\n",
        "fout.close()"
      ],
      "metadata": {
        "colab": {
          "base_uri": "https://localhost:8080/"
        },
        "id": "GroTXlLMeK49",
        "outputId": "1f1572e6-a642-4b25-ff25-d6b9f5b84b06"
      },
      "execution_count": null,
      "outputs": [
        {
          "name": "stdout",
          "output_type": "stream",
          "text": [
            "Enter file to be read from: out.txt\n",
            "Enter file to be appended to: h.txt\n"
          ]
        }
      ]
    },
    {
      "cell_type": "code",
      "source": [
        "fname = input(\"Enter file name: \")\n",
        "file3=open(fname,\"a\")\n",
        "c=input(\"Enter string to append: \\n\");\n",
        "file3.write(\"\\n\")\n",
        "file3.write(c)\n",
        "file3.close()\n",
        "print(\"Contents of appended file:\");\n",
        "file4=open(fname,'r')\n",
        "line1=file4.readline()\n",
        "while(line1!=\"\"):\n",
        "    print(line1)\n",
        "    line1=file4.readline()\n",
        "file4.close()"
      ],
      "metadata": {
        "colab": {
          "base_uri": "https://localhost:8080/"
        },
        "id": "Ddm5NYpCeR21",
        "outputId": "cd1d442e-ab8a-4e1f-e24e-0a44af0b0720"
      },
      "execution_count": null,
      "outputs": [
        {
          "output_type": "stream",
          "name": "stdout",
          "text": [
            "Enter file name: out.txt\n",
            "Enter string to append: \n",
            "stringh\n",
            "Contents of appended file:\n",
            "#include <stdio.h>\n",
            "\n",
            "#include <string.h>\n",
            "\n",
            "\n",
            "\n",
            "int findFirstOccurrence(const char *text, const char *pattern) {\n",
            "\n",
            "    // Use the strstr function to find the first occurrence of pattern in text\n",
            "\n",
            "    char *result = strstr(text, pattern);\n",
            "\n",
            "    \n",
            "\n",
            "    // If result is NULL, the pattern was not found\n",
            "\n",
            "    if (result == NULL) {\n",
            "\n",
            "        return -1; // Indicating that the pattern is not found\n",
            "\n",
            "    }\n",
            "\n",
            "    \n",
            "\n",
            "    // Calculate the index of the first occurrence\n",
            "\n",
            "    return result - text;\n",
            "\n",
            "}\n",
            "\n",
            "\n",
            "\n",
            "int main() {\n",
            "\n",
            "    // Define the text and the search pattern\n",
            "\n",
            "    char text[] = \"sadbutnotsad\";\n",
            "\n",
            "    char pattern[] = \"sad\";\n",
            "\n",
            "    \n",
            "\n",
            "    // Find the index of the first occurrence\n",
            "\n",
            "    int index = findFirstOccurrence(text, pattern);\n",
            "\n",
            "    \n",
            "\n",
            "    // Print the result\n",
            "\n",
            "    printf(\"%d\\n\", index);\n",
            "\n",
            "    \n",
            "\n",
            "    return 0;\n",
            "\n",
            "}\n",
            "\n",
            "\n",
            "\n",
            "stringh\n"
          ]
        }
      ]
    }
  ]
}